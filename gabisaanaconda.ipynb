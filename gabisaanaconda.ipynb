{
  "nbformat": 4,
  "nbformat_minor": 0,
  "metadata": {
    "colab": {
      "name": "gabisaanaconda.ipynb",
      "provenance": [],
      "authorship_tag": "ABX9TyMqPXgeryvHhJeESnc8gDbM",
      "include_colab_link": true
    },
    "kernelspec": {
      "name": "python3",
      "display_name": "Python 3"
    },
    "language_info": {
      "name": "python"
    }
  },
  "cells": [
    {
      "cell_type": "markdown",
      "metadata": {
        "id": "view-in-github",
        "colab_type": "text"
      },
      "source": [
        "<a href=\"https://colab.research.google.com/github/sheilta/progate.github.io/blob/master/gabisaanaconda.ipynb\" target=\"_parent\"><img src=\"https://colab.research.google.com/assets/colab-badge.svg\" alt=\"Open In Colab\"/></a>"
      ]
    },
    {
      "cell_type": "code",
      "metadata": {
        "colab": {
          "base_uri": "https://localhost:8080/"
        },
        "id": "5XxCL0BHKa5H",
        "outputId": "c050cff6-0708-49db-ae87-4dcce61f1f2f"
      },
      "source": [
        "print(\"Hello World\")"
      ],
      "execution_count": 1,
      "outputs": [
        {
          "output_type": "stream",
          "name": "stdout",
          "text": [
            "Hello World\n"
          ]
        }
      ]
    },
    {
      "cell_type": "code",
      "metadata": {
        "colab": {
          "base_uri": "https://localhost:8080/"
        },
        "id": "hna0B1iPOXZ9",
        "outputId": "8bf39040-3f08-45d4-83a1-e9395a3f2bd5"
      },
      "source": [
        "print(\"Halo Dunia\")\n",
        "print(\"Riset Bahasa Python\")"
      ],
      "execution_count": 2,
      "outputs": [
        {
          "output_type": "stream",
          "name": "stdout",
          "text": [
            "Halo Dunia\n",
            "Riset Bahasa Python\n"
          ]
        }
      ]
    },
    {
      "cell_type": "code",
      "metadata": {
        "colab": {
          "base_uri": "https://localhost:8080/"
        },
        "id": "Gy6n5WDsOdPU",
        "outputId": "71dac458-a39d-4d73-ae1f-4717e6bdfc28"
      },
      "source": [
        "bilangan1=20\n",
        "bilangan2=10\n",
        "print(bilangan1-bilangan2)"
      ],
      "execution_count": 3,
      "outputs": [
        {
          "output_type": "stream",
          "name": "stdout",
          "text": [
            "10\n"
          ]
        }
      ]
    },
    {
      "cell_type": "code",
      "metadata": {
        "colab": {
          "base_uri": "https://localhost:8080/"
        },
        "id": "10uNuavrOwJG",
        "outputId": "be11a009-81b4-4368-9046-b53b61059b5b"
      },
      "source": [
        "contoh_list=['Dewi','Budi','Cici','Linda','Cici']\n",
        "print(contoh_list)\n",
        "contoh_set={'Dewi','Budi','Cici','Linda','Cici'}\n",
        "print(contoh_set)\n",
        "contoh_frozen_set=({'Dewi','Budi','Cici','Linda','Cici'})\n",
        "print(contoh_frozen_set)"
      ],
      "execution_count": 4,
      "outputs": [
        {
          "output_type": "stream",
          "name": "stdout",
          "text": [
            "['Dewi', 'Budi', 'Cici', 'Linda', 'Cici']\n",
            "{'Linda', 'Cici', 'Dewi', 'Budi'}\n",
            "{'Linda', 'Cici', 'Dewi', 'Budi'}\n"
          ]
        }
      ]
    },
    {
      "cell_type": "code",
      "metadata": {
        "colab": {
          "base_uri": "https://localhost:8080/"
        },
        "id": "1yvn2Hg_PJjw",
        "outputId": "d70a6041-b492-485a-9032-f44d27ba4ea7"
      },
      "source": [
        "person={'nama':'Sheilta','pekerjaan':'Mahasiswa'}\n",
        "print(person['nama'])\n",
        "print(person['pekerjaan'])"
      ],
      "execution_count": 7,
      "outputs": [
        {
          "output_type": "stream",
          "name": "stdout",
          "text": [
            "Jumadi\n",
            "Programmer\n"
          ]
        }
      ]
    },
    {
      "cell_type": "code",
      "metadata": {
        "colab": {
          "base_uri": "https://localhost:8080/"
        },
        "id": "5prHgDYcQmyd",
        "outputId": "bef9d55e-3c22-4b63-9fd1-82fd94eb5bfb"
      },
      "source": [
        "contoh_list=[1,'dua',3,4.0,5]\n",
        "print(contoh_list[0])\n",
        "print(contoh_list[3])\n",
        "contoh_list=[1,'dua',3,4.0,5]\n",
        "contoh_list[3]='empat'\n",
        "print(contoh_list[3])"
      ],
      "execution_count": 6,
      "outputs": [
        {
          "output_type": "stream",
          "name": "stdout",
          "text": [
            "1\n",
            "4.0\n",
            "empat\n"
          ]
        }
      ]
    },
    {
      "cell_type": "code",
      "metadata": {
        "id": "MR7uwDOuQ47l"
      },
      "source": [
        ""
      ],
      "execution_count": null,
      "outputs": []
    }
  ]
}